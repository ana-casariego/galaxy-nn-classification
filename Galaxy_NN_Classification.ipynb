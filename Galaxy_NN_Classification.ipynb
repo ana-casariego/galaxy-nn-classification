{
  "nbformat": 4,
  "nbformat_minor": 0,
  "metadata": {
    "accelerator": "GPU",
    "colab": {
      "name": "Galaxy NN Classification.ipynb",
      "provenance": [],
      "collapsed_sections": [],
      "include_colab_link": true
    },
    "kernelspec": {
      "display_name": "Python 3",
      "name": "python3"
    }
  },
  "cells": [
    {
      "cell_type": "markdown",
      "metadata": {
        "id": "view-in-github",
        "colab_type": "text"
      },
      "source": [
        "<a href=\"https://colab.research.google.com/github/ana-casariego/galaxy-nn-classification/blob/main/Galaxy_NN_Classification.ipynb\" target=\"_parent\"><img src=\"https://colab.research.google.com/assets/colab-badge.svg\" alt=\"Open In Colab\"/></a>"
      ]
    },
    {
      "cell_type": "markdown",
      "metadata": {
        "id": "rHgTMhwMOws_"
      },
      "source": [
        "By Ana Casariego"
      ]
    },
    {
      "cell_type": "markdown",
      "metadata": {
        "id": "lny4nJYbOpD7"
      },
      "source": [
        "# Galaxy Classification Project"
      ]
    },
    {
      "cell_type": "markdown",
      "metadata": {
        "id": "SEK2hSGvOeg_"
      },
      "source": [
        "Mount to Google Drive"
      ]
    },
    {
      "cell_type": "code",
      "metadata": {
        "colab": {
          "base_uri": "https://localhost:8080/"
        },
        "id": "921f1raz-Tpc",
        "outputId": "1c9b9080-744c-4a2d-f3b1-b16eebc2813b"
      },
      "source": [
        "import pandas as pd\n",
        "import io\n",
        "\n",
        "from google.colab import drive\n",
        "drive.mount('/content/gdrive', force_remount=True)"
      ],
      "execution_count": null,
      "outputs": [
        {
          "output_type": "stream",
          "text": [
            "Mounted at /content/gdrive\n"
          ],
          "name": "stdout"
        }
      ]
    },
    {
      "cell_type": "markdown",
      "metadata": {
        "id": "Fjf1yYqFOmPV"
      },
      "source": [
        "Import the Data"
      ]
    },
    {
      "cell_type": "code",
      "metadata": {
        "id": "HwEUkn85qLTo"
      },
      "source": [
        "import pickle\n",
        "\n",
        "# Getting back the objects:\n",
        "with open('/content/gdrive/My Drive/Colab Notebooks/galaxy_data.pkl', 'rb') as f:  \n",
        "    X_train, y_train, X_test = pickle.load(f)\n",
        "X_test = X_test.astype('float32') / 255"
      ],
      "execution_count": null,
      "outputs": []
    },
    {
      "cell_type": "markdown",
      "metadata": {
        "id": "v4P1WZSgO8LI"
      },
      "source": [
        "Create Validation Set"
      ]
    },
    {
      "cell_type": "code",
      "metadata": {
        "id": "KLYS6oL6q2Th"
      },
      "source": [
        "from sklearn.model_selection import train_test_split\n",
        "X_train, X_val, y_train, y_val = train_test_split(X_train, y_train, test_size=0.25, random_state=24)"
      ],
      "execution_count": null,
      "outputs": []
    },
    {
      "cell_type": "markdown",
      "metadata": {
        "id": "lpOyTUpGO-UB"
      },
      "source": [
        "Establish Generator"
      ]
    },
    {
      "cell_type": "code",
      "metadata": {
        "id": "TKRrPGDPLeYT"
      },
      "source": [
        "from keras.preprocessing.image import ImageDataGenerator\n",
        "\n",
        "# construct the training image generator for data augmentation\n",
        "gen = ImageDataGenerator(rescale = 1./255,\n",
        "                         rotation_range=90, \n",
        "                         zoom_range=0.05,\n",
        "                         width_shift_range=0.02, \n",
        "                         height_shift_range=0.02, \n",
        "                         shear_range=0.05,\n",
        "                         horizontal_flip=True, \n",
        "                         fill_mode=\"nearest\")\n",
        "\n",
        "train_flow = gen.flow(X_train, y_train, batch_size=20)\n",
        "\n",
        "gen_val = ImageDataGenerator(rescale = 1./255)\n",
        "validation_generator = gen_val.flow(X_val, y_val, batch_size=20)"
      ],
      "execution_count": null,
      "outputs": []
    },
    {
      "cell_type": "markdown",
      "metadata": {
        "id": "SWfMFhOIPBPm"
      },
      "source": [
        "Import Convolutional Base"
      ]
    },
    {
      "cell_type": "code",
      "metadata": {
        "id": "Kj8WHBO-TU0w",
        "colab": {
          "base_uri": "https://localhost:8080/"
        },
        "outputId": "9fdaaf4a-d6b2-4de2-e8ba-42b56594f800"
      },
      "source": [
        "from keras.applications import VGG16\n",
        "\n",
        "conv_base = VGG16(weights='imagenet',\n",
        "                  include_top=False,\n",
        "                  input_shape=(150, 150, 3))"
      ],
      "execution_count": null,
      "outputs": [
        {
          "output_type": "stream",
          "text": [
            "Downloading data from https://storage.googleapis.com/tensorflow/keras-applications/vgg16/vgg16_weights_tf_dim_ordering_tf_kernels_notop.h5\n",
            "58892288/58889256 [==============================] - 0s 0us/step\n"
          ],
          "name": "stdout"
        }
      ]
    },
    {
      "cell_type": "code",
      "metadata": {
        "id": "RSZD82N0oVsh"
      },
      "source": [
        "conv_base.trainable = False"
      ],
      "execution_count": null,
      "outputs": []
    },
    {
      "cell_type": "markdown",
      "metadata": {
        "id": "h2O3tK0-PF2f"
      },
      "source": [
        "Import Previous Model (if necessary)"
      ]
    },
    {
      "cell_type": "code",
      "metadata": {
        "id": "4qeOgRYjEjMB",
        "colab": {
          "base_uri": "https://localhost:8080/",
          "height": 163
        },
        "outputId": "6efefe57-880b-40b0-aa5f-eb07aab779d5"
      },
      "source": [
        "from keras import models\n",
        "from keras import layers\n",
        "model = models.load_model('/content/gdrive/My Drive/Colab Notebooks/galaxy5.h5')"
      ],
      "execution_count": null,
      "outputs": [
        {
          "output_type": "error",
          "ename": "NameError",
          "evalue": "ignored",
          "traceback": [
            "\u001b[0;31m---------------------------------------------------------------------------\u001b[0m",
            "\u001b[0;31mNameError\u001b[0m                                 Traceback (most recent call last)",
            "\u001b[0;32m<ipython-input-5-5930227950e1>\u001b[0m in \u001b[0;36m<module>\u001b[0;34m()\u001b[0m\n\u001b[0;32m----> 1\u001b[0;31m \u001b[0mmodel\u001b[0m \u001b[0;34m=\u001b[0m \u001b[0mmodels\u001b[0m\u001b[0;34m.\u001b[0m\u001b[0mload_model\u001b[0m\u001b[0;34m(\u001b[0m\u001b[0;34m'/content/gdrive/My Drive/Colab Notebooks/galaxy5.h5'\u001b[0m\u001b[0;34m)\u001b[0m\u001b[0;34m\u001b[0m\u001b[0;34m\u001b[0m\u001b[0m\n\u001b[0m",
            "\u001b[0;31mNameError\u001b[0m: name 'models' is not defined"
          ]
        }
      ]
    },
    {
      "cell_type": "markdown",
      "metadata": {
        "id": "UZJyABe9PKFH"
      },
      "source": [
        "Create Model (if no model is being loaded)"
      ]
    },
    {
      "cell_type": "code",
      "metadata": {
        "id": "3pr4A6mBTtof"
      },
      "source": [
        "from keras import models\n",
        "from keras import layers\n",
        "\n",
        "model = models.Sequential()\n",
        "model.add(conv_base)\n",
        "model.add(layers.Flatten())\n",
        "model.add(layers.Dense(512, activation='sigmoid'))\n",
        "model.add(layers.Dense(512, activation='sigmoid'))\n",
        "model.add(layers.Dropout(0.5))\n",
        "model.add(layers.Dense(512, activation='sigmoid'))\n",
        "model.add(layers.Dropout(0.5))\n",
        "model.add(layers.Dense(22, activation='sigmoid'))"
      ],
      "execution_count": null,
      "outputs": []
    },
    {
      "cell_type": "code",
      "metadata": {
        "colab": {
          "base_uri": "https://localhost:8080/"
        },
        "id": "0-i8mWaKGMPN",
        "outputId": "bb603ccb-3e2e-4e50-b200-3b6dd0bfa01e"
      },
      "source": [
        "model.summary()"
      ],
      "execution_count": null,
      "outputs": [
        {
          "output_type": "stream",
          "text": [
            "Model: \"sequential_1\"\n",
            "_________________________________________________________________\n",
            "Layer (type)                 Output Shape              Param #   \n",
            "=================================================================\n",
            "conv2d_6 (Conv2D)            (None, 148, 148, 512)     14336     \n",
            "_________________________________________________________________\n",
            "conv2d_7 (Conv2D)            (None, 146, 146, 256)     1179904   \n",
            "_________________________________________________________________\n",
            "max_pooling2d_3 (MaxPooling2 (None, 73, 73, 256)       0         \n",
            "_________________________________________________________________\n",
            "conv2d_8 (Conv2D)            (None, 71, 71, 256)       590080    \n",
            "_________________________________________________________________\n",
            "conv2d_9 (Conv2D)            (None, 69, 69, 128)       295040    \n",
            "_________________________________________________________________\n",
            "max_pooling2d_4 (MaxPooling2 (None, 34, 34, 128)       0         \n",
            "_________________________________________________________________\n",
            "conv2d_10 (Conv2D)           (None, 32, 32, 128)       147584    \n",
            "_________________________________________________________________\n",
            "conv2d_11 (Conv2D)           (None, 30, 30, 128)       147584    \n",
            "_________________________________________________________________\n",
            "global_max_pooling2d (Global (None, 128)               0         \n",
            "_________________________________________________________________\n",
            "flatten_1 (Flatten)          (None, 128)               0         \n",
            "_________________________________________________________________\n",
            "dropout_4 (Dropout)          (None, 128)               0         \n",
            "_________________________________________________________________\n",
            "dense_4 (Dense)              (None, 128)               16512     \n",
            "_________________________________________________________________\n",
            "dropout_5 (Dropout)          (None, 128)               0         \n",
            "_________________________________________________________________\n",
            "dense_5 (Dense)              (None, 128)               16512     \n",
            "_________________________________________________________________\n",
            "dropout_6 (Dropout)          (None, 128)               0         \n",
            "_________________________________________________________________\n",
            "dense_6 (Dense)              (None, 128)               16512     \n",
            "_________________________________________________________________\n",
            "dropout_7 (Dropout)          (None, 128)               0         \n",
            "_________________________________________________________________\n",
            "dense_7 (Dense)              (None, 22)                2838      \n",
            "=================================================================\n",
            "Total params: 2,426,902\n",
            "Trainable params: 2,426,902\n",
            "Non-trainable params: 0\n",
            "_________________________________________________________________\n"
          ],
          "name": "stdout"
        }
      ]
    },
    {
      "cell_type": "markdown",
      "metadata": {
        "id": "BW9RWeSTPT6q"
      },
      "source": [
        "Compile Model"
      ]
    },
    {
      "cell_type": "code",
      "metadata": {
        "id": "tJGGB8mdpCNX"
      },
      "source": [
        "from keras import metrics\n",
        "model.compile(loss='binary_crossentropy',\n",
        "              optimizer='adam',\n",
        "              metrics=[metrics.RootMeanSquaredError()])"
      ],
      "execution_count": null,
      "outputs": []
    },
    {
      "cell_type": "markdown",
      "metadata": {
        "id": "9eiXXuK3PVF0"
      },
      "source": [
        "Train Model"
      ]
    },
    {
      "cell_type": "code",
      "metadata": {
        "colab": {
          "base_uri": "https://localhost:8080/"
        },
        "id": "DO01YX9VywHP",
        "outputId": "0b6c6960-2bf3-433f-c66a-be0ad9f9fa06"
      },
      "source": [
        "history=model.fit(train_flow, \n",
        "                  validation_data=validation_generator, \n",
        "                  epochs=30, steps_per_epoch = 100,\n",
        "                  validation_steps=70)"
      ],
      "execution_count": null,
      "outputs": [
        {
          "output_type": "stream",
          "text": [
            "Epoch 1/30\n",
            "100/100 [==============================] - 13s 125ms/step - loss: 0.2805 - root_mean_squared_error: 0.1144 - val_loss: 0.2806 - val_root_mean_squared_error: 0.1134\n",
            "Epoch 2/30\n",
            "100/100 [==============================] - 13s 125ms/step - loss: 0.2753 - root_mean_squared_error: 0.1143 - val_loss: 0.2790 - val_root_mean_squared_error: 0.1148\n",
            "Epoch 3/30\n",
            "100/100 [==============================] - 12s 125ms/step - loss: 0.2794 - root_mean_squared_error: 0.1137 - val_loss: 0.2716 - val_root_mean_squared_error: 0.1087\n",
            "Epoch 4/30\n",
            "100/100 [==============================] - 13s 125ms/step - loss: 0.2818 - root_mean_squared_error: 0.1159 - val_loss: 0.2714 - val_root_mean_squared_error: 0.1109\n",
            "Epoch 5/30\n",
            "100/100 [==============================] - 13s 125ms/step - loss: 0.2798 - root_mean_squared_error: 0.1149 - val_loss: 0.2806 - val_root_mean_squared_error: 0.1187\n",
            "Epoch 6/30\n",
            "100/100 [==============================] - 12s 125ms/step - loss: 0.2821 - root_mean_squared_error: 0.1161 - val_loss: 0.2716 - val_root_mean_squared_error: 0.1129\n",
            "Epoch 7/30\n",
            "100/100 [==============================] - 13s 125ms/step - loss: 0.2834 - root_mean_squared_error: 0.1164 - val_loss: 0.2742 - val_root_mean_squared_error: 0.1127\n",
            "Epoch 8/30\n",
            "100/100 [==============================] - 13s 126ms/step - loss: 0.2802 - root_mean_squared_error: 0.1150 - val_loss: 0.2782 - val_root_mean_squared_error: 0.1145\n",
            "Epoch 9/30\n",
            "100/100 [==============================] - 13s 127ms/step - loss: 0.2811 - root_mean_squared_error: 0.1148 - val_loss: 0.2830 - val_root_mean_squared_error: 0.1153\n",
            "Epoch 10/30\n",
            "100/100 [==============================] - 13s 126ms/step - loss: 0.2796 - root_mean_squared_error: 0.1149 - val_loss: 0.2698 - val_root_mean_squared_error: 0.1111\n",
            "Epoch 11/30\n",
            "100/100 [==============================] - 13s 126ms/step - loss: 0.2835 - root_mean_squared_error: 0.1163 - val_loss: 0.2826 - val_root_mean_squared_error: 0.1114\n",
            "Epoch 12/30\n",
            "100/100 [==============================] - 13s 125ms/step - loss: 0.2753 - root_mean_squared_error: 0.1119 - val_loss: 0.2812 - val_root_mean_squared_error: 0.1162\n",
            "Epoch 13/30\n",
            "100/100 [==============================] - 13s 126ms/step - loss: 0.2802 - root_mean_squared_error: 0.1159 - val_loss: 0.2823 - val_root_mean_squared_error: 0.1150\n",
            "Epoch 14/30\n",
            "100/100 [==============================] - 13s 126ms/step - loss: 0.2791 - root_mean_squared_error: 0.1141 - val_loss: 0.2846 - val_root_mean_squared_error: 0.1129\n",
            "Epoch 15/30\n",
            "100/100 [==============================] - 13s 125ms/step - loss: 0.2783 - root_mean_squared_error: 0.1139 - val_loss: 0.2771 - val_root_mean_squared_error: 0.1166\n",
            "Epoch 16/30\n",
            "100/100 [==============================] - 13s 126ms/step - loss: 0.2768 - root_mean_squared_error: 0.1147 - val_loss: 0.2858 - val_root_mean_squared_error: 0.1172\n",
            "Epoch 17/30\n",
            "100/100 [==============================] - 13s 127ms/step - loss: 0.2818 - root_mean_squared_error: 0.1142 - val_loss: 0.2750 - val_root_mean_squared_error: 0.1143\n",
            "Epoch 18/30\n",
            "100/100 [==============================] - 13s 126ms/step - loss: 0.2791 - root_mean_squared_error: 0.1143 - val_loss: 0.2705 - val_root_mean_squared_error: 0.1086\n",
            "Epoch 19/30\n",
            "100/100 [==============================] - 13s 126ms/step - loss: 0.2778 - root_mean_squared_error: 0.1131 - val_loss: 0.2754 - val_root_mean_squared_error: 0.1098\n",
            "Epoch 20/30\n",
            "100/100 [==============================] - 13s 127ms/step - loss: 0.2799 - root_mean_squared_error: 0.1145 - val_loss: 0.2795 - val_root_mean_squared_error: 0.1146\n",
            "Epoch 21/30\n",
            "100/100 [==============================] - 13s 127ms/step - loss: 0.2809 - root_mean_squared_error: 0.1147 - val_loss: 0.2785 - val_root_mean_squared_error: 0.1140\n",
            "Epoch 22/30\n",
            "100/100 [==============================] - 13s 125ms/step - loss: 0.2821 - root_mean_squared_error: 0.1182 - val_loss: 0.2690 - val_root_mean_squared_error: 0.1091\n",
            "Epoch 23/30\n",
            "100/100 [==============================] - 13s 127ms/step - loss: 0.2780 - root_mean_squared_error: 0.1138 - val_loss: 0.2836 - val_root_mean_squared_error: 0.1136\n",
            "Epoch 24/30\n",
            "100/100 [==============================] - 13s 126ms/step - loss: 0.2799 - root_mean_squared_error: 0.1146 - val_loss: 0.2775 - val_root_mean_squared_error: 0.1101\n",
            "Epoch 25/30\n",
            "100/100 [==============================] - 13s 125ms/step - loss: 0.2790 - root_mean_squared_error: 0.1153 - val_loss: 0.2781 - val_root_mean_squared_error: 0.1107\n",
            "Epoch 26/30\n",
            "100/100 [==============================] - 13s 127ms/step - loss: 0.2795 - root_mean_squared_error: 0.1155 - val_loss: 0.2799 - val_root_mean_squared_error: 0.1122\n",
            "Epoch 27/30\n",
            "100/100 [==============================] - 13s 126ms/step - loss: 0.2713 - root_mean_squared_error: 0.1122 - val_loss: 0.2762 - val_root_mean_squared_error: 0.1137\n",
            "Epoch 28/30\n",
            "100/100 [==============================] - 13s 127ms/step - loss: 0.2788 - root_mean_squared_error: 0.1135 - val_loss: 0.2786 - val_root_mean_squared_error: 0.1132\n",
            "Epoch 29/30\n",
            "100/100 [==============================] - 13s 126ms/step - loss: 0.2798 - root_mean_squared_error: 0.1156 - val_loss: 0.2851 - val_root_mean_squared_error: 0.1154\n",
            "Epoch 30/30\n",
            "100/100 [==============================] - 13s 127ms/step - loss: 0.2806 - root_mean_squared_error: 0.1147 - val_loss: 0.2785 - val_root_mean_squared_error: 0.1102\n"
          ],
          "name": "stdout"
        }
      ]
    },
    {
      "cell_type": "markdown",
      "metadata": {
        "id": "SdRndMoiPXPz"
      },
      "source": [
        "Unfreeze Part of Convolutional Base"
      ]
    },
    {
      "cell_type": "code",
      "metadata": {
        "id": "c6ODU3V6zJNy"
      },
      "source": [
        "conv_base.trainable = True\n",
        "\n",
        "set_trainable = False\n",
        "for layer in conv_base.layers:\n",
        "    if layer.name == 'block5_conv1':\n",
        "        set_trainable = True\n",
        "    if set_trainable:\n",
        "        layer.trainable = True\n",
        "    else:\n",
        "        layer.trainable = False"
      ],
      "execution_count": null,
      "outputs": []
    },
    {
      "cell_type": "markdown",
      "metadata": {
        "id": "iAUEylUKPbSa"
      },
      "source": [
        "Re-Compile and Train Model"
      ]
    },
    {
      "cell_type": "code",
      "metadata": {
        "colab": {
          "base_uri": "https://localhost:8080/"
        },
        "id": "Z7Uvo4-u0C0p",
        "outputId": "b9cf1358-2a2e-49fd-dd18-a6a2856a82db"
      },
      "source": [
        "from keras import optimizers\n",
        "model.compile(loss='binary_crossentropy',\n",
        "              optimizer=optimizers.RMSprop(lr=1e-5),\n",
        "              metrics=[metrics.RootMeanSquaredError()])\n",
        "\n",
        "history=model.fit(train_flow, \n",
        "                  validation_data=validation_generator, \n",
        "                  epochs=40, \n",
        "                  steps_per_epoch=10, \n",
        "                  validation_steps=20)"
      ],
      "execution_count": null,
      "outputs": [
        {
          "output_type": "stream",
          "text": [
            "Epoch 1/40\n",
            "10/10 [==============================] - 4s 262ms/step - loss: 0.2674 - root_mean_squared_error: 0.1148 - val_loss: 0.2774 - val_root_mean_squared_error: 0.1135\n",
            "Epoch 2/40\n",
            "10/10 [==============================] - 2s 241ms/step - loss: 0.2845 - root_mean_squared_error: 0.1171 - val_loss: 0.2805 - val_root_mean_squared_error: 0.1134\n",
            "Epoch 3/40\n",
            "10/10 [==============================] - 2s 241ms/step - loss: 0.2779 - root_mean_squared_error: 0.1141 - val_loss: 0.2800 - val_root_mean_squared_error: 0.1118\n",
            "Epoch 4/40\n",
            "10/10 [==============================] - 2s 241ms/step - loss: 0.2833 - root_mean_squared_error: 0.1149 - val_loss: 0.2837 - val_root_mean_squared_error: 0.1177\n",
            "Epoch 5/40\n",
            "10/10 [==============================] - 2s 241ms/step - loss: 0.2753 - root_mean_squared_error: 0.1045 - val_loss: 0.2698 - val_root_mean_squared_error: 0.1087\n",
            "Epoch 6/40\n",
            "10/10 [==============================] - 2s 241ms/step - loss: 0.2727 - root_mean_squared_error: 0.1125 - val_loss: 0.2715 - val_root_mean_squared_error: 0.1106\n",
            "Epoch 7/40\n",
            "10/10 [==============================] - 2s 241ms/step - loss: 0.2816 - root_mean_squared_error: 0.1099 - val_loss: 0.2721 - val_root_mean_squared_error: 0.1133\n",
            "Epoch 8/40\n",
            "10/10 [==============================] - 2s 245ms/step - loss: 0.2779 - root_mean_squared_error: 0.1201 - val_loss: 0.2780 - val_root_mean_squared_error: 0.1135\n",
            "Epoch 9/40\n",
            "10/10 [==============================] - 2s 244ms/step - loss: 0.2755 - root_mean_squared_error: 0.1074 - val_loss: 0.2834 - val_root_mean_squared_error: 0.1160\n",
            "Epoch 10/40\n",
            "10/10 [==============================] - 2s 242ms/step - loss: 0.2731 - root_mean_squared_error: 0.1107 - val_loss: 0.2838 - val_root_mean_squared_error: 0.1183\n",
            "Epoch 11/40\n",
            "10/10 [==============================] - 2s 246ms/step - loss: 0.2739 - root_mean_squared_error: 0.1101 - val_loss: 0.2772 - val_root_mean_squared_error: 0.1114\n",
            "Epoch 12/40\n",
            "10/10 [==============================] - 2s 246ms/step - loss: 0.2857 - root_mean_squared_error: 0.1112 - val_loss: 0.2728 - val_root_mean_squared_error: 0.1117\n",
            "Epoch 13/40\n",
            "10/10 [==============================] - 2s 245ms/step - loss: 0.2948 - root_mean_squared_error: 0.1206 - val_loss: 0.2807 - val_root_mean_squared_error: 0.1146\n",
            "Epoch 14/40\n",
            "10/10 [==============================] - 2s 244ms/step - loss: 0.2825 - root_mean_squared_error: 0.1154 - val_loss: 0.2860 - val_root_mean_squared_error: 0.1167\n",
            "Epoch 15/40\n",
            "10/10 [==============================] - 2s 243ms/step - loss: 0.2745 - root_mean_squared_error: 0.1132 - val_loss: 0.2832 - val_root_mean_squared_error: 0.1158\n",
            "Epoch 16/40\n",
            "10/10 [==============================] - 2s 241ms/step - loss: 0.2861 - root_mean_squared_error: 0.1220 - val_loss: 0.2869 - val_root_mean_squared_error: 0.1182\n",
            "Epoch 17/40\n",
            "10/10 [==============================] - 2s 243ms/step - loss: 0.2837 - root_mean_squared_error: 0.1171 - val_loss: 0.2795 - val_root_mean_squared_error: 0.1132\n",
            "Epoch 18/40\n",
            "10/10 [==============================] - 2s 243ms/step - loss: 0.2715 - root_mean_squared_error: 0.1116 - val_loss: 0.2736 - val_root_mean_squared_error: 0.1112\n",
            "Epoch 19/40\n",
            "10/10 [==============================] - 2s 241ms/step - loss: 0.2803 - root_mean_squared_error: 0.1129 - val_loss: 0.2844 - val_root_mean_squared_error: 0.1128\n",
            "Epoch 20/40\n",
            "10/10 [==============================] - 2s 241ms/step - loss: 0.2801 - root_mean_squared_error: 0.1085 - val_loss: 0.2793 - val_root_mean_squared_error: 0.1117\n",
            "Epoch 21/40\n",
            "10/10 [==============================] - 2s 243ms/step - loss: 0.2768 - root_mean_squared_error: 0.1179 - val_loss: 0.2813 - val_root_mean_squared_error: 0.1139\n",
            "Epoch 22/40\n",
            "10/10 [==============================] - 2s 241ms/step - loss: 0.2823 - root_mean_squared_error: 0.1221 - val_loss: 0.2827 - val_root_mean_squared_error: 0.1155\n",
            "Epoch 23/40\n",
            "10/10 [==============================] - 2s 239ms/step - loss: 0.2864 - root_mean_squared_error: 0.1150 - val_loss: 0.2818 - val_root_mean_squared_error: 0.1154\n",
            "Epoch 24/40\n",
            "10/10 [==============================] - 2s 242ms/step - loss: 0.2967 - root_mean_squared_error: 0.1202 - val_loss: 0.2823 - val_root_mean_squared_error: 0.1160\n",
            "Epoch 25/40\n",
            "10/10 [==============================] - 2s 239ms/step - loss: 0.2760 - root_mean_squared_error: 0.1152 - val_loss: 0.2754 - val_root_mean_squared_error: 0.1152\n",
            "Epoch 26/40\n",
            "10/10 [==============================] - 2s 243ms/step - loss: 0.2717 - root_mean_squared_error: 0.1143 - val_loss: 0.2767 - val_root_mean_squared_error: 0.1148\n",
            "Epoch 27/40\n",
            "10/10 [==============================] - 2s 239ms/step - loss: 0.2584 - root_mean_squared_error: 0.1061 - val_loss: 0.2773 - val_root_mean_squared_error: 0.1139\n",
            "Epoch 28/40\n",
            "10/10 [==============================] - 2s 241ms/step - loss: 0.2661 - root_mean_squared_error: 0.1145 - val_loss: 0.2774 - val_root_mean_squared_error: 0.1130\n",
            "Epoch 29/40\n",
            "10/10 [==============================] - 2s 242ms/step - loss: 0.2839 - root_mean_squared_error: 0.1142 - val_loss: 0.2823 - val_root_mean_squared_error: 0.1110\n",
            "Epoch 30/40\n",
            "10/10 [==============================] - 2s 241ms/step - loss: 0.2746 - root_mean_squared_error: 0.1165 - val_loss: 0.2766 - val_root_mean_squared_error: 0.1132\n",
            "Epoch 31/40\n",
            "10/10 [==============================] - 2s 245ms/step - loss: 0.2733 - root_mean_squared_error: 0.1147 - val_loss: 0.2844 - val_root_mean_squared_error: 0.1145\n",
            "Epoch 32/40\n",
            "10/10 [==============================] - 2s 241ms/step - loss: 0.2716 - root_mean_squared_error: 0.1150 - val_loss: 0.2773 - val_root_mean_squared_error: 0.1109\n",
            "Epoch 33/40\n",
            "10/10 [==============================] - 2s 243ms/step - loss: 0.2843 - root_mean_squared_error: 0.1247 - val_loss: 0.2756 - val_root_mean_squared_error: 0.1127\n",
            "Epoch 34/40\n",
            "10/10 [==============================] - 2s 242ms/step - loss: 0.2657 - root_mean_squared_error: 0.1097 - val_loss: 0.2789 - val_root_mean_squared_error: 0.1119\n",
            "Epoch 35/40\n",
            "10/10 [==============================] - 2s 244ms/step - loss: 0.2727 - root_mean_squared_error: 0.1123 - val_loss: 0.2793 - val_root_mean_squared_error: 0.1129\n",
            "Epoch 36/40\n",
            "10/10 [==============================] - 2s 243ms/step - loss: 0.2800 - root_mean_squared_error: 0.1117 - val_loss: 0.2785 - val_root_mean_squared_error: 0.1164\n",
            "Epoch 37/40\n",
            "10/10 [==============================] - 2s 245ms/step - loss: 0.2967 - root_mean_squared_error: 0.1211 - val_loss: 0.2832 - val_root_mean_squared_error: 0.1153\n",
            "Epoch 38/40\n",
            "10/10 [==============================] - 2s 242ms/step - loss: 0.2672 - root_mean_squared_error: 0.1182 - val_loss: 0.2732 - val_root_mean_squared_error: 0.1100\n",
            "Epoch 39/40\n",
            "10/10 [==============================] - 2s 245ms/step - loss: 0.2903 - root_mean_squared_error: 0.1200 - val_loss: 0.2725 - val_root_mean_squared_error: 0.1115\n",
            "Epoch 40/40\n",
            "10/10 [==============================] - 2s 241ms/step - loss: 0.2824 - root_mean_squared_error: 0.1108 - val_loss: 0.2819 - val_root_mean_squared_error: 0.1153\n"
          ],
          "name": "stdout"
        }
      ]
    },
    {
      "cell_type": "markdown",
      "metadata": {
        "id": "nNCwuks1PfMd"
      },
      "source": [
        "Evaluate Average RMSE, Maximum, and Minimum Values"
      ]
    },
    {
      "cell_type": "code",
      "metadata": {
        "colab": {
          "base_uri": "https://localhost:8080/"
        },
        "id": "NFMhPVtNRYZa",
        "outputId": "6be58912-0c7d-4eb3-e94a-c7f3a6920b37"
      },
      "source": [
        "import statistics\n",
        "\n",
        "statistics.mean(history.history['val_root_mean_squared_error'])"
      ],
      "execution_count": null,
      "outputs": [
        {
          "output_type": "execute_result",
          "data": {
            "text/plain": [
              "0.11368384137749672"
            ]
          },
          "metadata": {
            "tags": []
          },
          "execution_count": 62
        }
      ]
    },
    {
      "cell_type": "code",
      "metadata": {
        "colab": {
          "base_uri": "https://localhost:8080/"
        },
        "id": "srk34JnuXq2m",
        "outputId": "a413f8d7-d015-4b5b-ca7e-eac7dac3f709"
      },
      "source": [
        "max(history.history['val_root_mean_squared_error'])"
      ],
      "execution_count": null,
      "outputs": [
        {
          "output_type": "execute_result",
          "data": {
            "text/plain": [
              "0.11827083677053452"
            ]
          },
          "metadata": {
            "tags": []
          },
          "execution_count": 63
        }
      ]
    },
    {
      "cell_type": "code",
      "metadata": {
        "colab": {
          "base_uri": "https://localhost:8080/"
        },
        "id": "z2Zyz9LUYBxH",
        "outputId": "93c1770c-e5db-4523-f395-015e32db9370"
      },
      "source": [
        "min(history.history['val_root_mean_squared_error'])"
      ],
      "execution_count": null,
      "outputs": [
        {
          "output_type": "execute_result",
          "data": {
            "text/plain": [
              "0.10871231555938721"
            ]
          },
          "metadata": {
            "tags": []
          },
          "execution_count": 64
        }
      ]
    },
    {
      "cell_type": "markdown",
      "metadata": {
        "id": "XTfJoM-vPkeU"
      },
      "source": [
        "Save Model"
      ]
    },
    {
      "cell_type": "code",
      "metadata": {
        "id": "60hevBU7zfYa"
      },
      "source": [
        "model.save('/content/gdrive/My Drive/Colab Notebooks/galaxy.h5')"
      ],
      "execution_count": null,
      "outputs": []
    },
    {
      "cell_type": "markdown",
      "metadata": {
        "id": "pgbOz-DOPlyB"
      },
      "source": [
        "Export to CSV"
      ]
    },
    {
      "cell_type": "code",
      "metadata": {
        "id": "yCTG_ZOPEuMv"
      },
      "source": [
        "import pandas as pd\n",
        "import numpy as np\n",
        "pred = model.predict(X_test)\n",
        "out = pd.DataFrame(pred)\n",
        "out.to_csv(\"/content/gdrive/My Drive/Colab Notebooks/galaxybest.csv\")"
      ],
      "execution_count": null,
      "outputs": []
    }
  ]
}